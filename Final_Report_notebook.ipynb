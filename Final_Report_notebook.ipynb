{
 "cells": [
  {
   "cell_type": "markdown",
   "id": "8ec9a840",
   "metadata": {},
   "source": [
    "# Burned by Telco Churn"
   ]
  },
  {
   "cell_type": "markdown",
   "id": "f7878e7d",
   "metadata": {},
   "source": [
    "<img src=\"This_is_Fine.png\" alt=\"No it's not\">"
   ]
  },
  {
   "cell_type": "code",
   "execution_count": 1,
   "id": "ae23e3cd",
   "metadata": {},
   "outputs": [],
   "source": [
    "import scipy.stats as stats\n",
    "import pandas as pd\n",
    "import numpy as np\n",
    "import itertools\n",
    "\n",
    "# visualization\n",
    "import seaborn as sns\n",
    "import matplotlib.pyplot as plt\n",
    "\n",
    "# classification models\n",
    "from sklearn.impute import SimpleImputer\n",
    "from sklearn.tree import DecisionTreeClassifier, plot_tree\n",
    "from sklearn.metrics import classification_report\n",
    "from sklearn.metrics import confusion_matrix\n",
    "from sklearn.linear_model import LogisticRegression\n",
    "\n",
    "# custom modules\n",
    "import modeling as md\n",
    "import prepare\n",
    "import acquire\n",
    "import exploration\n",
    "import split\n",
    "\n",
    "# global variable, will never change\n",
    "alpha = 0.05"
   ]
  },
  {
   "cell_type": "markdown",
   "id": "e087286c",
   "metadata": {},
   "source": [
    "# Project Overview:\n",
    "\n",
    "## What? \n",
    "> * Discover key drivers of churn at Telco                                               \n",
    "> * Make a predictive model of how likely someone is to churn                               \n",
    "> * Make recommendations to curb churn                                                   \n",
    "> * Deliver results in a final report notebook and record predictions.                       \n",
    "\n",
    "## Why? \n",
    "> Find out why customers churn to make data-driven business changes and target our highest areas of opportunity to create the most financial gain/impact.\n",
    "\n",
    "## How? \n",
    "> Acquire data, clean it, explore it, model it.\n"
   ]
  },
  {
   "cell_type": "markdown",
   "id": "a8ffc59f",
   "metadata": {},
   "source": [
    " # Executive Summary - Findings & Next Steps\n",
    "\n",
    "### Key Drivers of Churn: Electronic Check, Monthly Charges\n",
    "\n",
    "### Model:\n",
    " - Logistic Regression had the best performance and had **80.67%** accuracy on testing data.\n",
    " - Beat baseline accuracy by **9.86%**\n",
    "\n",
    "### Recommendations: \n",
    "- Text reminders of upcoming bills\n",
    "- Small monthly discounts when enrolled in autopay\n",
    "- Normalization of monthly charges\n",
    "\n",
    "\n",
    "### Future Analysis/Action:\n",
    "* Identify differences in subgroups of customers and determine the reason for variance in monthly cost for churning and non-churning customers.\n",
    "* Employ measures to reduce the variance in costs to reduce monthly costs for churning customers.                                                                                       \n",
    "* Conduct a study on the website sign-in and payment system process to see if customers are quitting out at specific spots. \n"
   ]
  },
  {
   "cell_type": "markdown",
   "id": "e08a8bd7",
   "metadata": {},
   "source": [
    "# Acquire Data"
   ]
  },
  {
   "cell_type": "markdown",
   "id": "72cccbda",
   "metadata": {},
   "source": [
    "**Acquire Goal:** Queue and save data from the Codeup SQL database for customer data at Telco."
   ]
  },
  {
   "cell_type": "code",
   "execution_count": 2,
   "id": "4aa0f75c",
   "metadata": {},
   "outputs": [
    {
     "name": "stdout",
     "output_type": "stream",
     "text": [
      "<class 'pandas.core.frame.DataFrame'>\n",
      "RangeIndex: 7043 entries, 0 to 7042\n",
      "Data columns (total 25 columns):\n",
      " #   Column                    Non-Null Count  Dtype  \n",
      "---  ------                    --------------  -----  \n",
      " 0   Unnamed: 0                7043 non-null   int64  \n",
      " 1   contract_type_id          7043 non-null   int64  \n",
      " 2   payment_type_id           7043 non-null   int64  \n",
      " 3   internet_service_type_id  7043 non-null   int64  \n",
      " 4   customer_id               7043 non-null   object \n",
      " 5   gender                    7043 non-null   object \n",
      " 6   senior_citizen            7043 non-null   int64  \n",
      " 7   partner                   7043 non-null   object \n",
      " 8   dependents                7043 non-null   object \n",
      " 9   tenure                    7043 non-null   int64  \n",
      " 10  phone_service             7043 non-null   object \n",
      " 11  multiple_lines            7043 non-null   object \n",
      " 12  online_security           7043 non-null   object \n",
      " 13  online_backup             7043 non-null   object \n",
      " 14  device_protection         7043 non-null   object \n",
      " 15  tech_support              7043 non-null   object \n",
      " 16  streaming_tv              7043 non-null   object \n",
      " 17  streaming_movies          7043 non-null   object \n",
      " 18  paperless_billing         7043 non-null   object \n",
      " 19  monthly_charges           7043 non-null   float64\n",
      " 20  total_charges             7043 non-null   object \n",
      " 21  churn                     7043 non-null   object \n",
      " 22  internet_service_type     7043 non-null   object \n",
      " 23  payment_type              7043 non-null   object \n",
      " 24  contract_type             7043 non-null   object \n",
      "dtypes: float64(1), int64(6), object(18)\n",
      "memory usage: 1.3+ MB\n",
      "None\n"
     ]
    }
   ],
   "source": [
    "# Queues the sql database for telco data and writes to csv.\n",
    "# Only reads the csv if it exists\n",
    "telco_df = acquire.get_telco_data()\n",
    "\n",
    "# define target variable\n",
    "target_var = 'churn_Yes'\n",
    "\n",
    "# show info/standard statistics for the dataframe\n",
    "print(telco_df.info())"
   ]
  },
  {
   "cell_type": "markdown",
   "id": "119096ce",
   "metadata": {},
   "source": [
    "## Acquire keypoints:\n",
    "   - Wrote SQL to queue the Codeup database, write the results to csv. If csv already\n",
    "      exists, read from csv instead.\n",
    "   -  The initial dataframe has 25 columns and 7043 rows.\n",
    "   -  Both monthly and total charges are the same unit of measure, although tenure is not.\n",
    "   -  Total charges also has a much higher range than both monthly_charges and tenure.           Scaling might be worth exploring in the future.\n",
    "   -  Total charges has a datatype of 'object' when it should be float. Fix in prepare."
   ]
  },
  {
   "cell_type": "markdown",
   "id": "3f0fad16",
   "metadata": {},
   "source": [
    "# Prepare"
   ]
  },
  {
   "cell_type": "markdown",
   "id": "8b27a8a2",
   "metadata": {},
   "source": [
    "### Prepare Goals: \n",
    "   - Clean data \n",
    "   - split into train, validate and test sets\n",
    "   - Encode sets for model compatability"
   ]
  },
  {
   "cell_type": "markdown",
   "id": "9892e459",
   "metadata": {},
   "source": [
    "### Preparing/Cleaning:"
   ]
  },
  {
   "cell_type": "code",
   "execution_count": 3,
   "id": "1b337b4e",
   "metadata": {},
   "outputs": [],
   "source": [
    "# returns clean dataframe, quantitative/categorical columns for \n",
    "# future function use. \n",
    "telco_df, categories, quant_cols, u_df = prepare.prep_telco(telco_df)"
   ]
  },
  {
   "cell_type": "markdown",
   "id": "b7ef4888",
   "metadata": {},
   "source": [
    "### Data Splitting & Encoding:"
   ]
  },
  {
   "cell_type": "code",
   "execution_count": 4,
   "id": "5564ca7b",
   "metadata": {},
   "outputs": [],
   "source": [
    "# split data into training, validate and test splits, then encode\n",
    "train, validate, test = split.train_validate_test_split(u_df, 'churn')\n",
    "train_en, validate_en, test_en = prepare.encode_train_validate_test(u_df, train.drop(columns='customer_id'), \n",
    "                                                                    validate.drop(columns='customer_id'),\n",
    "                                                                    test.drop(columns='customer_id'))"
   ]
  },
  {
   "cell_type": "markdown",
   "id": "8a9dd197",
   "metadata": {},
   "source": [
    "### Unencoded/Encoded Preview:"
   ]
  },
  {
   "cell_type": "code",
   "execution_count": 5,
   "id": "71bdd7a2",
   "metadata": {},
   "outputs": [
    {
     "data": {
      "text/html": [
       "<div>\n",
       "<style scoped>\n",
       "    .dataframe tbody tr th:only-of-type {\n",
       "        vertical-align: middle;\n",
       "    }\n",
       "\n",
       "    .dataframe tbody tr th {\n",
       "        vertical-align: top;\n",
       "    }\n",
       "\n",
       "    .dataframe thead th {\n",
       "        text-align: right;\n",
       "    }\n",
       "</style>\n",
       "<table border=\"1\" class=\"dataframe\">\n",
       "  <thead>\n",
       "    <tr style=\"text-align: right;\">\n",
       "      <th></th>\n",
       "      <th>Unnamed: 0</th>\n",
       "      <th>customer_id</th>\n",
       "      <th>gender</th>\n",
       "      <th>senior_citizen</th>\n",
       "      <th>partner</th>\n",
       "      <th>dependents</th>\n",
       "      <th>tenure</th>\n",
       "      <th>phone_service</th>\n",
       "      <th>multiple_lines</th>\n",
       "      <th>online_security</th>\n",
       "      <th>...</th>\n",
       "      <th>tech_support</th>\n",
       "      <th>streaming_tv</th>\n",
       "      <th>streaming_movies</th>\n",
       "      <th>paperless_billing</th>\n",
       "      <th>monthly_charges</th>\n",
       "      <th>total_charges</th>\n",
       "      <th>churn</th>\n",
       "      <th>internet_service_type</th>\n",
       "      <th>payment_type</th>\n",
       "      <th>contract_type</th>\n",
       "    </tr>\n",
       "  </thead>\n",
       "  <tbody>\n",
       "    <tr>\n",
       "      <th>5919</th>\n",
       "      <td>5919</td>\n",
       "      <td>8331-ZXFOE</td>\n",
       "      <td>Female</td>\n",
       "      <td>0</td>\n",
       "      <td>No</td>\n",
       "      <td>No</td>\n",
       "      <td>58</td>\n",
       "      <td>Yes</td>\n",
       "      <td>Yes</td>\n",
       "      <td>Yes</td>\n",
       "      <td>...</td>\n",
       "      <td>Yes</td>\n",
       "      <td>No</td>\n",
       "      <td>No</td>\n",
       "      <td>Yes</td>\n",
       "      <td>71.10</td>\n",
       "      <td>4299.20</td>\n",
       "      <td>No</td>\n",
       "      <td>DSL</td>\n",
       "      <td>Credit card (automatic)</td>\n",
       "      <td>One year</td>\n",
       "    </tr>\n",
       "    <tr>\n",
       "      <th>1915</th>\n",
       "      <td>1915</td>\n",
       "      <td>2790-XUYMV</td>\n",
       "      <td>Male</td>\n",
       "      <td>0</td>\n",
       "      <td>No</td>\n",
       "      <td>Yes</td>\n",
       "      <td>71</td>\n",
       "      <td>Yes</td>\n",
       "      <td>Yes</td>\n",
       "      <td>Yes</td>\n",
       "      <td>...</td>\n",
       "      <td>No</td>\n",
       "      <td>No</td>\n",
       "      <td>No</td>\n",
       "      <td>Yes</td>\n",
       "      <td>85.45</td>\n",
       "      <td>6028.95</td>\n",
       "      <td>No</td>\n",
       "      <td>Fiber optic</td>\n",
       "      <td>Credit card (automatic)</td>\n",
       "      <td>One year</td>\n",
       "    </tr>\n",
       "  </tbody>\n",
       "</table>\n",
       "<p>2 rows × 22 columns</p>\n",
       "</div>"
      ],
      "text/plain": [
       "      Unnamed: 0 customer_id  gender  senior_citizen partner dependents  \\\n",
       "5919        5919  8331-ZXFOE  Female               0      No         No   \n",
       "1915        1915  2790-XUYMV    Male               0      No        Yes   \n",
       "\n",
       "      tenure phone_service multiple_lines online_security  ... tech_support  \\\n",
       "5919      58           Yes            Yes             Yes  ...          Yes   \n",
       "1915      71           Yes            Yes             Yes  ...           No   \n",
       "\n",
       "     streaming_tv streaming_movies paperless_billing monthly_charges  \\\n",
       "5919           No               No               Yes           71.10   \n",
       "1915           No               No               Yes           85.45   \n",
       "\n",
       "     total_charges  churn  internet_service_type             payment_type  \\\n",
       "5919       4299.20     No                    DSL  Credit card (automatic)   \n",
       "1915       6028.95     No            Fiber optic  Credit card (automatic)   \n",
       "\n",
       "     contract_type  \n",
       "5919      One year  \n",
       "1915      One year  \n",
       "\n",
       "[2 rows x 22 columns]"
      ]
     },
     "execution_count": 5,
     "metadata": {},
     "output_type": "execute_result"
    }
   ],
   "source": [
    "# unencoded\n",
    "train.head(2)"
   ]
  },
  {
   "cell_type": "code",
   "execution_count": 6,
   "id": "29082576",
   "metadata": {},
   "outputs": [
    {
     "data": {
      "text/html": [
       "<div>\n",
       "<style scoped>\n",
       "    .dataframe tbody tr th:only-of-type {\n",
       "        vertical-align: middle;\n",
       "    }\n",
       "\n",
       "    .dataframe tbody tr th {\n",
       "        vertical-align: top;\n",
       "    }\n",
       "\n",
       "    .dataframe thead th {\n",
       "        text-align: right;\n",
       "    }\n",
       "</style>\n",
       "<table border=\"1\" class=\"dataframe\">\n",
       "  <thead>\n",
       "    <tr style=\"text-align: right;\">\n",
       "      <th></th>\n",
       "      <th>senior_citizen</th>\n",
       "      <th>tenure</th>\n",
       "      <th>monthly_charges</th>\n",
       "      <th>total_charges</th>\n",
       "      <th>gender_Male</th>\n",
       "      <th>partner_Yes</th>\n",
       "      <th>dependents_Yes</th>\n",
       "      <th>phone_service_Yes</th>\n",
       "      <th>multiple_lines_No phone service</th>\n",
       "      <th>multiple_lines_Yes</th>\n",
       "      <th>...</th>\n",
       "      <th>paperless_billing_Yes</th>\n",
       "      <th>churn_Yes</th>\n",
       "      <th>internet_service_type_Fiber optic</th>\n",
       "      <th>internet_service_type_None</th>\n",
       "      <th>payment_type_Credit card (automatic)</th>\n",
       "      <th>payment_type_Electronic check</th>\n",
       "      <th>payment_type_Mailed check</th>\n",
       "      <th>contract_type_One year</th>\n",
       "      <th>contract_type_Two year</th>\n",
       "      <th>customer_id</th>\n",
       "    </tr>\n",
       "  </thead>\n",
       "  <tbody>\n",
       "    <tr>\n",
       "      <th>5919</th>\n",
       "      <td>0</td>\n",
       "      <td>58</td>\n",
       "      <td>71.10</td>\n",
       "      <td>4299.20</td>\n",
       "      <td>0</td>\n",
       "      <td>0</td>\n",
       "      <td>0</td>\n",
       "      <td>1</td>\n",
       "      <td>0</td>\n",
       "      <td>1</td>\n",
       "      <td>...</td>\n",
       "      <td>1</td>\n",
       "      <td>0</td>\n",
       "      <td>0</td>\n",
       "      <td>0</td>\n",
       "      <td>1</td>\n",
       "      <td>0</td>\n",
       "      <td>0</td>\n",
       "      <td>1</td>\n",
       "      <td>0</td>\n",
       "      <td>8331-ZXFOE</td>\n",
       "    </tr>\n",
       "    <tr>\n",
       "      <th>1915</th>\n",
       "      <td>0</td>\n",
       "      <td>71</td>\n",
       "      <td>85.45</td>\n",
       "      <td>6028.95</td>\n",
       "      <td>1</td>\n",
       "      <td>0</td>\n",
       "      <td>1</td>\n",
       "      <td>1</td>\n",
       "      <td>0</td>\n",
       "      <td>1</td>\n",
       "      <td>...</td>\n",
       "      <td>1</td>\n",
       "      <td>0</td>\n",
       "      <td>1</td>\n",
       "      <td>0</td>\n",
       "      <td>1</td>\n",
       "      <td>0</td>\n",
       "      <td>0</td>\n",
       "      <td>1</td>\n",
       "      <td>0</td>\n",
       "      <td>2790-XUYMV</td>\n",
       "    </tr>\n",
       "  </tbody>\n",
       "</table>\n",
       "<p>2 rows × 32 columns</p>\n",
       "</div>"
      ],
      "text/plain": [
       "      senior_citizen  tenure  monthly_charges  total_charges  gender_Male  \\\n",
       "5919               0      58            71.10        4299.20            0   \n",
       "1915               0      71            85.45        6028.95            1   \n",
       "\n",
       "      partner_Yes  dependents_Yes  phone_service_Yes  \\\n",
       "5919            0               0                  1   \n",
       "1915            0               1                  1   \n",
       "\n",
       "      multiple_lines_No phone service  multiple_lines_Yes  ...  \\\n",
       "5919                                0                   1  ...   \n",
       "1915                                0                   1  ...   \n",
       "\n",
       "      paperless_billing_Yes  churn_Yes  internet_service_type_Fiber optic  \\\n",
       "5919                      1          0                                  0   \n",
       "1915                      1          0                                  1   \n",
       "\n",
       "      internet_service_type_None  payment_type_Credit card (automatic)  \\\n",
       "5919                           0                                     1   \n",
       "1915                           0                                     1   \n",
       "\n",
       "      payment_type_Electronic check  payment_type_Mailed check  \\\n",
       "5919                              0                          0   \n",
       "1915                              0                          0   \n",
       "\n",
       "      contract_type_One year  contract_type_Two year  customer_id  \n",
       "5919                       1                       0   8331-ZXFOE  \n",
       "1915                       1                       0   2790-XUYMV  \n",
       "\n",
       "[2 rows x 32 columns]"
      ]
     },
     "execution_count": 6,
     "metadata": {},
     "output_type": "execute_result"
    }
   ],
   "source": [
    "# encoded\n",
    "train_en.head(2)"
   ]
  },
  {
   "cell_type": "markdown",
   "id": "03279629",
   "metadata": {},
   "source": [
    "## Preparation Log:\n",
    "   - There were some 0 values in total_charges that did not add value to the dataset, so they were dropped (7043 -> 7032 rows).\n",
    "   - Created train, validate and test splits for in-sample testing/exploration, out-of-sample testing, and final model testing.\n",
    "   - Converted total_charges to 'float64' so it would be possible to do math and to model with it.\n",
    "   - Encoded each train, validate and test for model compatability."
   ]
  },
  {
   "cell_type": "markdown",
   "id": "f9b3d8f1",
   "metadata": {},
   "source": [
    "# Exploration"
   ]
  },
  {
   "cell_type": "markdown",
   "id": "13ead644",
   "metadata": {},
   "source": [
    "### Exploration Goals: \n",
    "   - Find drivers of churn\n",
    "   - Ask questions about drivers for insight\n",
    "   - Visualize and use hypothesis testing to understand our questions\n",
    "   - Use results to make business recommendations"
   ]
  },
  {
   "cell_type": "markdown",
   "id": "5d36e70c",
   "metadata": {},
   "source": [
    "### Why should we care?"
   ]
  },
  {
   "cell_type": "code",
   "execution_count": 7,
   "id": "1c8acd55",
   "metadata": {
    "scrolled": false
   },
   "outputs": [
    {
     "data": {
      "image/png": "[encoded data removed]",
      "text/plain": [
       "<Figure size 432x432 with 1 Axes>"
      ]
     },
     "metadata": {
      "needs_background": "light"
     },
     "output_type": "display_data"
    }
   ],
   "source": [
    "# histogram of tenure and churned\n",
    "churned = train[train.churn == 'Yes']\n",
    "six_months = list(range(0,78,6))\n",
    "churned.tenure.value_counts(bins=six_months)\n",
    "fig = churned.hist('tenure', bins=six_months, figsize=(6,6))"
   ]
  },
  {
   "cell_type": "markdown",
   "id": "3ec91829",
   "metadata": {},
   "source": [
    "## Takeaway:\n",
    "\n",
    " > Most customers leave within 6 months, and an overwhelming majority leave within the first year -->                                    \n",
    "   **Addressing key drivers is *urgent***.\n"
   ]
  },
  {
   "cell_type": "markdown",
   "id": "2c7876be",
   "metadata": {},
   "source": [
    "### Is Monthly Charges related to Churn?"
   ]
  },
  {
   "cell_type": "code",
   "execution_count": 8,
   "id": "71458435",
   "metadata": {},
   "outputs": [
    {
     "data": {
      "text/plain": [
       "<AxesSubplot:xlabel='tenure', ylabel='monthly_charges'>"
      ]
     },
     "execution_count": 8,
     "metadata": {},
     "output_type": "execute_result"
    },
    {
     "data": {
      "image/png": "[encoded data removed]",
      "text/plain": [
       "<Figure size 432x288 with 1 Axes>"
      ]
     },
     "metadata": {
      "needs_background": "light"
     },
     "output_type": "display_data"
    }
   ],
   "source": [
    "sns.scatterplot(x=train.tenure, y=train.monthly_charges, hue=train.churn)"
   ]
  },
  {
   "cell_type": "markdown",
   "id": "9f2da0f8",
   "metadata": {},
   "source": [
    "### Takeaway: \n",
    "  > Churning population seems to have higher monthly charges and they tend to leave early."
   ]
  },
  {
   "cell_type": "code",
   "execution_count": 9,
   "id": "c3558b04",
   "metadata": {
    "scrolled": false
   },
   "outputs": [
    {
     "data": {
      "text/plain": [
       "<matplotlib.lines.Line2D at 0x7fe9deb60a30>"
      ]
     },
     "execution_count": 9,
     "metadata": {},
     "output_type": "execute_result"
    },
    {
     "data": {
      "image/png": "[encoded data removed]",
      "text/plain": [
       "<Figure size 432x288 with 1 Axes>"
      ]
     },
     "metadata": {
      "needs_background": "light"
     },
     "output_type": "display_data"
    }
   ],
   "source": [
    "# plots monthly_charges vs churn, adds a mean line\n",
    "ax= sns.barplot(x=train['churn'], y=train['monthly_charges'])\n",
    "ax.axhline(train['monthly_charges'].mean())"
   ]
  },
  {
   "cell_type": "markdown",
   "id": "6891da34",
   "metadata": {},
   "source": [
    "### Takeaway:\n",
    "  > Churning population *does* have a higher average monthly charge than non-churning customers."
   ]
  },
  {
   "cell_type": "markdown",
   "id": "ad2f2ed2",
   "metadata": {},
   "source": [
    "### Hypothesis Testing:"
   ]
  },
  {
   "cell_type": "markdown",
   "id": "4e47c187",
   "metadata": {},
   "source": [
    "**Null Hypothesis:** Monthly charges has **no** significant relation to churn.      \n",
    "**Alternative Hypothesis:** Monthly charges **does** have a significant relation to churn."
   ]
  },
  {
   "cell_type": "code",
   "execution_count": 10,
   "id": "be85a646",
   "metadata": {},
   "outputs": [
    {
     "name": "stdout",
     "output_type": "stream",
     "text": [
      "We reject the Null Hypothesis that monthly charges has no significant relation to churn.\n"
     ]
    }
   ],
   "source": [
    "observed = pd.crosstab(train.churn, train.monthly_charges)\n",
    "chi, p, degf, expected = stats.chi2_contingency(observed)\n",
    "\n",
    "if p < alpha:\n",
    "    print('We reject the Null Hypothesis that monthly charges has no significant relation to churn.')\n",
    "else:\n",
    "    print('We accept the Null Hypothesis.')"
   ]
  },
  {
   "cell_type": "markdown",
   "id": "b22fc9f8",
   "metadata": {},
   "source": [
    "### Takeaway:\n",
    "  > There's a statistically significant chance that churn and monthly charges are related.  "
   ]
  },
  {
   "cell_type": "markdown",
   "id": "bb749c44",
   "metadata": {},
   "source": [
    "## Is this problem worse in the first six months?"
   ]
  },
  {
   "cell_type": "code",
   "execution_count": 11,
   "id": "0e978709",
   "metadata": {},
   "outputs": [
    {
     "data": {
      "text/plain": [
       "<matplotlib.lines.Line2D at 0x7fe9debcda60>"
      ]
     },
     "execution_count": 11,
     "metadata": {},
     "output_type": "execute_result"
    },
    {
     "data": {
      "image/png": "[encoded data removed]",
      "text/plain": [
       "<Figure size 432x288 with 1 Axes>"
      ]
     },
     "metadata": {
      "needs_background": "light"
     },
     "output_type": "display_data"
    }
   ],
   "source": [
    "# confine train data to tenure of 6 months or less\n",
    "six_months = train[train.tenure <= 6]\n",
    "\n",
    "ax= sns.barplot(x=six_months.churn, y=six_months.monthly_charges)\n",
    "ax.axhline(six_months.monthly_charges.mean())"
   ]
  },
  {
   "cell_type": "markdown",
   "id": "bf051a49",
   "metadata": {},
   "source": [
    "### Takeaways:\n",
    "  > The problem gets worse, going from a difference of about 12 dollars a month between churning and non-churning customers to nearly 20 dollars a month.\n",
    " "
   ]
  },
  {
   "cell_type": "markdown",
   "id": "886899b6",
   "metadata": {},
   "source": [
    "### Future Analysis/Action for Monthly Charges:\n",
    "   >  * Identify differences in subgroups of customers and determine if variance in monthly charges for customers with the same service is a common problem.\n",
    "   >  * Employ measures to reduce the variance in costs to reduce monthly costs for churning customers."
   ]
  },
  {
   "cell_type": "markdown",
   "id": "00396f1e",
   "metadata": {},
   "source": [
    "## Is payment type related to churn?"
   ]
  },
  {
   "cell_type": "code",
   "execution_count": 12,
   "id": "813d3f23",
   "metadata": {
    "scrolled": true
   },
   "outputs": [
    {
     "data": {
      "image/png": "[encoded data removed]",
      "text/plain": [
       "<Figure size 504x360 with 1 Axes>"
      ]
     },
     "metadata": {
      "needs_background": "light"
     },
     "output_type": "display_data"
    }
   ],
   "source": [
    "# shows count of churned customers by payment type\n",
    "churned = train[train.churn == 'Yes']\n",
    "plt.figure(figsize=(7,5))\n",
    "payment_type_hist = exploration.target_freq_hist_count(churned, 'payment_type')\n",
    "plt.show()"
   ]
  },
  {
   "cell_type": "markdown",
   "id": "ac20aecf",
   "metadata": {},
   "source": [
    "**Null Hypothesis:** Payment type has no significant relation to churn.                       \n",
    "**Alternative Hypothesis:** Payment type does have a significant relation to churn.\n"
   ]
  },
  {
   "cell_type": "code",
   "execution_count": 13,
   "id": "fe97daac",
   "metadata": {},
   "outputs": [
    {
     "name": "stdout",
     "output_type": "stream",
     "text": [
      "We reject the Null Hypothesis that payment type has no significant relation to churn.\n"
     ]
    }
   ],
   "source": [
    "observed = pd.crosstab(train.churn, train.payment_type)\n",
    "chi, p, degf, expected = stats.chi2_contingency(observed)\n",
    "\n",
    "if p < alpha:\n",
    "    print('We reject the Null Hypothesis that payment type has no significant relation to churn.')\n",
    "else:\n",
    "    print('We accept the Null Hypothesis.')"
   ]
  },
  {
   "cell_type": "markdown",
   "id": "cf0ea2d5",
   "metadata": {},
   "source": [
    "### Takeaways:\n",
    "  > * There's a statistically significant chance that churn and payment type are related.\n",
    "  > * Electronic check makes up over 50% of people that churn."
   ]
  },
  {
   "cell_type": "markdown",
   "id": "a99dc91a",
   "metadata": {},
   "source": [
    "### Recommendations:\n",
    " > * Incentivize customers to sign up for autopay with small discounts on their monthly bill\n",
    " > * Text reminders about upcoming bills\n",
    " \n",
    "### Future Analysis on Payment Type: \n",
    " > * Do a study on the website sign-in and payment system process to see if customers are quitting out at specific spots. "
   ]
  },
  {
   "cell_type": "markdown",
   "id": "2b1db6c9",
   "metadata": {},
   "source": [
    "# Model and Evaluate"
   ]
  },
  {
   "cell_type": "code",
   "execution_count": 14,
   "id": "1834207e",
   "metadata": {},
   "outputs": [
    {
     "name": "stdout",
     "output_type": "stream",
     "text": [
      "Baseline accuracy (Churn = 0): 73.42999999999999%\n"
     ]
    }
   ],
   "source": [
    "# set baseline\n",
    "md.Results.baseline = (train_en.churn_Yes==0).mean()\n",
    "print(f'Baseline accuracy (Churn = 0): {round(md.Results.baseline, 4) * 100}%')"
   ]
  },
  {
   "cell_type": "markdown",
   "id": "6f741049",
   "metadata": {},
   "source": [
    "If I predicted that someone would not churn, I'd have an accuracy of **73.43%**\n",
    "That is the baseline accuracy that I am trying to outperform.\n",
    "\n",
    "I'm going to try Logistic Regression, Random Forests, Decision Trees, and KNearest Neighbors to try and create a predicitve classification model.\n",
    "\n",
    "I've written functions to adjust the parameters for the following:\n",
    "   - **Decision Trees:**\n",
    "        - depth\n",
    "   - **Random Forests:**\n",
    "        - depth\n",
    "        - min samples leaf\n",
    "   - **KNearestNeighbor:**\n",
    "        - n_neighbors\n",
    "        - weights (uniform, distance)\n",
    "   - **Logistic Regression:**\n",
    "        - C\n",
    "        - solver (lbgfs, liblinear)\n",
    "        - fit_intercept, intercept_scaling\n",
    "        \n",
    "*Random State set to 123 where possible.*"
   ]
  },
  {
   "cell_type": "markdown",
   "id": "e3761156",
   "metadata": {},
   "source": [
    "### Modeling Code:"
   ]
  },
  {
   "cell_type": "code",
   "execution_count": 15,
   "id": "34906bd4",
   "metadata": {},
   "outputs": [
    {
     "data": {
      "text/html": [
       "<div>\n",
       "<style scoped>\n",
       "    .dataframe tbody tr th:only-of-type {\n",
       "        vertical-align: middle;\n",
       "    }\n",
       "\n",
       "    .dataframe tbody tr th {\n",
       "        vertical-align: top;\n",
       "    }\n",
       "\n",
       "    .dataframe thead th {\n",
       "        text-align: right;\n",
       "    }\n",
       "</style>\n",
       "<table border=\"1\" class=\"dataframe\">\n",
       "  <thead>\n",
       "    <tr style=\"text-align: right;\">\n",
       "      <th></th>\n",
       "      <th>model_type</th>\n",
       "      <th>depth</th>\n",
       "      <th>train_accuracy</th>\n",
       "      <th>validate_accuracy</th>\n",
       "      <th>difference</th>\n",
       "      <th>percent_diff</th>\n",
       "      <th>min_samples_leaf</th>\n",
       "      <th>n_nearest_neighbor</th>\n",
       "      <th>C</th>\n",
       "    </tr>\n",
       "  </thead>\n",
       "  <tbody>\n",
       "    <tr>\n",
       "      <th>0</th>\n",
       "      <td>decision_tree</td>\n",
       "      <td>1.0</td>\n",
       "      <td>0.734315</td>\n",
       "      <td>0.734005</td>\n",
       "      <td>0.000311</td>\n",
       "      <td>0.04</td>\n",
       "      <td>NaN</td>\n",
       "      <td>NaN</td>\n",
       "      <td>NaN</td>\n",
       "    </tr>\n",
       "    <tr>\n",
       "      <th>1</th>\n",
       "      <td>decision_tree</td>\n",
       "      <td>2.0</td>\n",
       "      <td>0.794006</td>\n",
       "      <td>0.776066</td>\n",
       "      <td>0.017939</td>\n",
       "      <td>2.26</td>\n",
       "      <td>NaN</td>\n",
       "      <td>NaN</td>\n",
       "      <td>NaN</td>\n",
       "    </tr>\n",
       "    <tr>\n",
       "      <th>2</th>\n",
       "      <td>decision_tree</td>\n",
       "      <td>3.0</td>\n",
       "      <td>0.794006</td>\n",
       "      <td>0.776066</td>\n",
       "      <td>0.017939</td>\n",
       "      <td>2.26</td>\n",
       "      <td>NaN</td>\n",
       "      <td>NaN</td>\n",
       "      <td>NaN</td>\n",
       "    </tr>\n",
       "    <tr>\n",
       "      <th>3</th>\n",
       "      <td>decision_tree</td>\n",
       "      <td>4.0</td>\n",
       "      <td>0.800610</td>\n",
       "      <td>0.777844</td>\n",
       "      <td>0.022766</td>\n",
       "      <td>2.84</td>\n",
       "      <td>NaN</td>\n",
       "      <td>NaN</td>\n",
       "      <td>NaN</td>\n",
       "    </tr>\n",
       "    <tr>\n",
       "      <th>4</th>\n",
       "      <td>decision_tree</td>\n",
       "      <td>5.0</td>\n",
       "      <td>0.806960</td>\n",
       "      <td>0.776066</td>\n",
       "      <td>0.030893</td>\n",
       "      <td>3.83</td>\n",
       "      <td>NaN</td>\n",
       "      <td>NaN</td>\n",
       "      <td>NaN</td>\n",
       "    </tr>\n",
       "  </tbody>\n",
       "</table>\n",
       "</div>"
      ],
      "text/plain": [
       "      model_type  depth  train_accuracy  validate_accuracy  difference  \\\n",
       "0  decision_tree    1.0        0.734315           0.734005    0.000311   \n",
       "1  decision_tree    2.0        0.794006           0.776066    0.017939   \n",
       "2  decision_tree    3.0        0.794006           0.776066    0.017939   \n",
       "3  decision_tree    4.0        0.800610           0.777844    0.022766   \n",
       "4  decision_tree    5.0        0.806960           0.776066    0.030893   \n",
       "\n",
       "   percent_diff  min_samples_leaf  n_nearest_neighbor   C  \n",
       "0          0.04               NaN                 NaN NaN  \n",
       "1          2.26               NaN                 NaN NaN  \n",
       "2          2.26               NaN                 NaN NaN  \n",
       "3          2.84               NaN                 NaN NaN  \n",
       "4          3.83               NaN                 NaN NaN  "
      ]
     },
     "execution_count": 15,
     "metadata": {},
     "output_type": "execute_result"
    }
   ],
   "source": [
    "# create iterations of models, group them into Result objects that I made in modeling.py\n",
    "dt_mods, rf_mods, knn_mods, lr_mods = md.all_reports(train_en, validate_en, test_en, target_var)\n",
    "md.Results.total_summary.head()"
   ]
  },
  {
   "cell_type": "markdown",
   "id": "10735a10",
   "metadata": {},
   "source": [
    "### Highest Performers Summary:"
   ]
  },
  {
   "cell_type": "code",
   "execution_count": 16,
   "id": "17d2af5e",
   "metadata": {
    "scrolled": true
   },
   "outputs": [
    {
     "data": {
      "text/html": [
       "<div>\n",
       "<style scoped>\n",
       "    .dataframe tbody tr th:only-of-type {\n",
       "        vertical-align: middle;\n",
       "    }\n",
       "\n",
       "    .dataframe tbody tr th {\n",
       "        vertical-align: top;\n",
       "    }\n",
       "\n",
       "    .dataframe thead th {\n",
       "        text-align: right;\n",
       "    }\n",
       "</style>\n",
       "<table border=\"1\" class=\"dataframe\">\n",
       "  <thead>\n",
       "    <tr style=\"text-align: right;\">\n",
       "      <th></th>\n",
       "      <th>depth</th>\n",
       "      <th>train_accuracy</th>\n",
       "      <th>validate_accuracy</th>\n",
       "      <th>difference</th>\n",
       "      <th>percent_diff</th>\n",
       "      <th>min_samples_leaf</th>\n",
       "      <th>n_nearest_neighbor</th>\n",
       "      <th>C</th>\n",
       "    </tr>\n",
       "    <tr>\n",
       "      <th>model_type</th>\n",
       "      <th></th>\n",
       "      <th></th>\n",
       "      <th></th>\n",
       "      <th></th>\n",
       "      <th></th>\n",
       "      <th></th>\n",
       "      <th></th>\n",
       "      <th></th>\n",
       "    </tr>\n",
       "  </thead>\n",
       "  <tbody>\n",
       "    <tr>\n",
       "      <th>decision_tree</th>\n",
       "      <td>4.0</td>\n",
       "      <td>0.800610</td>\n",
       "      <td>0.777844</td>\n",
       "      <td>0.022766</td>\n",
       "      <td>2.84</td>\n",
       "      <td>NaN</td>\n",
       "      <td>NaN</td>\n",
       "      <td>NaN</td>\n",
       "    </tr>\n",
       "    <tr>\n",
       "      <th>knn_uniform</th>\n",
       "      <td>NaN</td>\n",
       "      <td>0.801372</td>\n",
       "      <td>0.775474</td>\n",
       "      <td>0.025898</td>\n",
       "      <td>3.23</td>\n",
       "      <td>NaN</td>\n",
       "      <td>14.0</td>\n",
       "      <td>NaN</td>\n",
       "    </tr>\n",
       "    <tr>\n",
       "      <th>logistic_regression</th>\n",
       "      <td>NaN</td>\n",
       "      <td>0.804420</td>\n",
       "      <td>0.796209</td>\n",
       "      <td>0.008211</td>\n",
       "      <td>1.02</td>\n",
       "      <td>NaN</td>\n",
       "      <td>NaN</td>\n",
       "      <td>10.0</td>\n",
       "    </tr>\n",
       "    <tr>\n",
       "      <th>random_forests</th>\n",
       "      <td>8.0</td>\n",
       "      <td>0.822200</td>\n",
       "      <td>0.795616</td>\n",
       "      <td>0.027174</td>\n",
       "      <td>3.33</td>\n",
       "      <td>15.0</td>\n",
       "      <td>NaN</td>\n",
       "      <td>NaN</td>\n",
       "    </tr>\n",
       "  </tbody>\n",
       "</table>\n",
       "</div>"
      ],
      "text/plain": [
       "                     depth  train_accuracy  validate_accuracy  difference  \\\n",
       "model_type                                                                  \n",
       "decision_tree          4.0        0.800610           0.777844    0.022766   \n",
       "knn_uniform            NaN        0.801372           0.775474    0.025898   \n",
       "logistic_regression    NaN        0.804420           0.796209    0.008211   \n",
       "random_forests         8.0        0.822200           0.795616    0.027174   \n",
       "\n",
       "                     percent_diff  min_samples_leaf  n_nearest_neighbor     C  \n",
       "model_type                                                                     \n",
       "decision_tree                2.84               NaN                 NaN   NaN  \n",
       "knn_uniform                  3.23               NaN                14.0   NaN  \n",
       "logistic_regression          1.02               NaN                 NaN  10.0  \n",
       "random_forests               3.33              15.0                 NaN   NaN  "
      ]
     },
     "execution_count": 16,
     "metadata": {},
     "output_type": "execute_result"
    }
   ],
   "source": [
    "# get highest performing model types while specifying a limiting % diff between train/validate\n",
    "md.Results.total_summary[md.Results.total_summary.percent_diff < 3.5].groupby('model_type').max()"
   ]
  },
  {
   "cell_type": "markdown",
   "id": "d2edbfe8",
   "metadata": {},
   "source": [
    "## Takeaways from modeling:\n",
    "- all models seemed to beat baseline\n",
    "- knn_distance had so much variance that it wouldn't show up under the limiting condition of 3.5% difference between train and validate.\n",
    "- My logistic regression model performed best with a validate accuracy of **79.62%**. This model beats baseline accuracy by **8.43%** and is the model I'll use on the test set."
   ]
  },
  {
   "cell_type": "markdown",
   "id": "2f88bb57",
   "metadata": {},
   "source": [
    "# Test best Model"
   ]
  },
  {
   "cell_type": "code",
   "execution_count": 17,
   "id": "92950e93",
   "metadata": {},
   "outputs": [
    {
     "name": "stdout",
     "output_type": "stream",
     "text": [
      "Model Accuracy: 80.67%\n"
     ]
    }
   ],
   "source": [
    "logit = LogisticRegression(C=10, random_state=123, fit_intercept=False, intercept_scaling=7.5)\n",
    "x_train = train_en.drop(columns=[target_var, 'customer_id'])\n",
    "y_train = train_en[target_var]\n",
    "\n",
    "logit = logit.fit(x_train, y_train)\n",
    "\n",
    "X_test = test_en.drop(columns=[target_var, 'customer_id'])\n",
    "Y_test = test_en[target_var]\n",
    "\n",
    "y_pred_test = logit.predict(X_test)\n",
    "\n",
    "accuracy = logit.score(X_test, Y_test)\n",
    "print(f'Model Accuracy: {round(accuracy * 100, 2)}%')"
   ]
  },
  {
   "cell_type": "markdown",
   "id": "f554bab8",
   "metadata": {},
   "source": [
    "## Test Result Takeaways:\n",
    "   >> Accuracy of **80.67%** against test set, beating baseline by **9.86%**."
   ]
  },
  {
   "cell_type": "markdown",
   "id": "ae373304",
   "metadata": {},
   "source": [
    "# Create Predictions csv"
   ]
  },
  {
   "cell_type": "markdown",
   "id": "f1496194",
   "metadata": {},
   "source": [
    "* Saving the results of our models predictions using customer_id, the outcome prediction for each customer, and the probability that a customer will churn."
   ]
  },
  {
   "cell_type": "code",
   "execution_count": 18,
   "id": "c0f30e0f",
   "metadata": {},
   "outputs": [],
   "source": [
    "proba_test = logit.predict_proba(X_test)\n",
    "churn_proba = proba_test[:,1]\n",
    "\n",
    "predictions = pd.DataFrame()\n",
    "predictions['customer_id'] = test_en.customer_id\n",
    "predictions['prediction'] = y_pred_test\n",
    "predictions['probability'] = churn_proba\n",
    "\n",
    "predictions.to_csv('predictions.csv')"
   ]
  },
  {
   "cell_type": "markdown",
   "id": "976496fb",
   "metadata": {},
   "source": [
    "# Conclusions & Recommendations"
   ]
  },
  {
   "cell_type": "markdown",
   "id": "349a30e8",
   "metadata": {},
   "source": [
    "**Conclusion:** Monthly charges and payment type are both drivers of churn. More analysis is needed to discover why churning customers are saddled with higher monthly charges and why people paying via electronic check are churning more than other payement types."
   ]
  },
  {
   "cell_type": "markdown",
   "id": "42aafbc7",
   "metadata": {},
   "source": [
    "### Model:\n",
    " - Logistic Regression had the best performance and had **80.67%** accuracy on testing data.\n",
    " - Beat baseline accuracy by **9.86%**\n",
    "\n",
    "### Recommendations: \n",
    "- Text reminders of upcoming bills\n",
    "- Small monthly discounts when enrolled in autopay\n",
    "- Normalization of monthly charges\n",
    "\n",
    "\n",
    "### Future Analysis/Action:\n",
    "* Identify differences in subgroups of customers and determine the reason for variance in monthly cost for churning and non-churning customers.\n",
    "* Employ measures to reduce the variance in costs to reduce monthly costs for churning customers.                                                                                       \n",
    "* Conduct a study on the website sign-in and payment system process to see if customers are quitting out at specific spots. "
   ]
  }
 ],
 "metadata": {
  "kernelspec": {
   "display_name": "Python 3 (ipykernel)",
   "language": "python",
   "name": "python3"
  },
  "language_info": {
   "codemirror_mode": {
    "name": "ipython",
    "version": 3
   },
   "file_extension": ".py",
   "mimetype": "text/x-python",
   "name": "python",
   "nbconvert_exporter": "python",
   "pygments_lexer": "ipython3",
   "version": "3.9.7"
  }
 },
 "nbformat": 4,
 "nbformat_minor": 5
}
